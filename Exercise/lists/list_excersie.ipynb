{
 "cells": [
  {
   "cell_type": "code",
   "execution_count": 1,
   "metadata": {},
   "outputs": [],
   "source": [
    "exp = [2200,2350,2600,2130,2190]\n",
    "month = []\n"
   ]
  },
  {
   "cell_type": "markdown",
   "metadata": {},
   "source": [
    "# 1. In Feb, how many dollars you spent extra compare to January?"
   ]
  },
  {
   "cell_type": "code",
   "execution_count": 3,
   "metadata": {},
   "outputs": [
    {
     "name": "stdout",
     "output_type": "stream",
     "text": [
      "In Feb this much extra was spent comped to Jan: 150\n"
     ]
    }
   ],
   "source": [
    "print(\"In Feb this much extra was spent comped to Jan:\", exp[1]-exp[0])\n"
   ]
  },
  {
   "cell_type": "markdown",
   "metadata": {},
   "source": [
    "# 2. Find out your total expense in first quarter (first three months) of the year"
   ]
  },
  {
   "cell_type": "code",
   "execution_count": 4,
   "metadata": {},
   "outputs": [
    {
     "name": "stdout",
     "output_type": "stream",
     "text": [
      "total expense in first quarter (first three months) of the year: 7150\n"
     ]
    }
   ],
   "source": [
    "print(\"total expense in first quarter (first three months) of the year:\", exp[0]+exp[1]+exp[2])\n",
    "\n"
   ]
  },
  {
   "cell_type": "markdown",
   "metadata": {},
   "source": [
    "# 3. Find out if you spent exactly 2000 dollars in any month"
   ]
  },
  {
   "cell_type": "code",
   "execution_count": 6,
   "metadata": {},
   "outputs": [
    {
     "name": "stdout",
     "output_type": "stream",
     "text": [
      "Did i spent exactly 2000 dollars in any month? False\n"
     ]
    }
   ],
   "source": [
    "print(\"Did i spent exactly 2000 dollars in any month?\", 2000 in exp)\n"
   ]
  },
  {
   "cell_type": "markdown",
   "metadata": {},
   "source": [
    "# June month just finished and your expense is 1980 dollar. Add this item to our monthly expense list\n",
    "exp.append(1980)"
   ]
  },
  {
   "cell_type": "code",
   "execution_count": 8,
   "metadata": {},
   "outputs": [
    {
     "name": "stdout",
     "output_type": "stream",
     "text": [
      "Expenses at the end of June: [2200, 2350, 2600, 2130, 2190, 1980, 1980]\n"
     ]
    }
   ],
   "source": [
    "exp.append(1980)\n",
    "print(\"Expenses at the end of June:\", exp)"
   ]
  },
  {
   "cell_type": "markdown",
   "metadata": {},
   "source": [
    "# 5. You returned an item that you bought in a month of April and got a refund of 200.Make a correction to your monthly expense list based on this"
   ]
  },
  {
   "cell_type": "code",
   "execution_count": 10,
   "metadata": {},
   "outputs": [
    {
     "name": "stdout",
     "output_type": "stream",
     "text": [
      "Expenses after 200$ return in April: [2200, 2350, 2600, 1730, 2190, 1980, 1980]\n"
     ]
    }
   ],
   "source": [
    "exp[3] = exp[3] - 200\n",
    "print(\"Expenses after 200$ return in April:\",exp)"
   ]
  },
  {
   "cell_type": "code",
   "execution_count": 11,
   "metadata": {},
   "outputs": [],
   "source": [
    "heros=['spider man','thor','hulk','iron man','captain america']"
   ]
  },
  {
   "cell_type": "markdown",
   "metadata": {},
   "source": [
    "# 1. Length of the list"
   ]
  },
  {
   "cell_type": "code",
   "execution_count": 12,
   "metadata": {},
   "outputs": [
    {
     "data": {
      "text/plain": [
       "5"
      ]
     },
     "execution_count": 12,
     "metadata": {},
     "output_type": "execute_result"
    }
   ],
   "source": [
    "len(heros)"
   ]
  },
  {
   "cell_type": "markdown",
   "metadata": {},
   "source": [
    "# 2. Add 'black panther' at the end of this list"
   ]
  },
  {
   "cell_type": "code",
   "execution_count": 13,
   "metadata": {},
   "outputs": [
    {
     "name": "stdout",
     "output_type": "stream",
     "text": [
      "['spider man', 'thor', 'hulk', 'iron man', 'captain america', 'black panther']\n"
     ]
    }
   ],
   "source": [
    "heros.append('black panther')\n",
    "print(heros)"
   ]
  },
  {
   "cell_type": "markdown",
   "metadata": {},
   "source": [
    "# 3. You realize that you need to add 'black panther' after 'hulk',\n",
    "# so remove it from the list first and then add it after 'hulk'"
   ]
  },
  {
   "cell_type": "code",
   "execution_count": 14,
   "metadata": {},
   "outputs": [
    {
     "name": "stdout",
     "output_type": "stream",
     "text": [
      "['spider man', 'thor', 'hulk', 'black panther', 'iron man', 'captain america']\n"
     ]
    }
   ],
   "source": [
    "heros.remove('black panther')\n",
    "heros.insert(3,'black panther')\n",
    "print(heros)"
   ]
  },
  {
   "cell_type": "markdown",
   "metadata": {},
   "source": [
    "#  4. Now you don't like thor and hulk because they get angry easily :)\n",
    "#    So you want to remove thor and hulk from list and replace them with doctor strange (because he is cool).\n",
    "#    Do that with one line of code."
   ]
  },
  {
   "cell_type": "code",
   "execution_count": 30,
   "metadata": {
    "scrolled": true
   },
   "outputs": [
    {
     "name": "stdout",
     "output_type": "stream",
     "text": [
      "['spider man', 'doctor strange', 'iron man', 'captain america']\n"
     ]
    }
   ],
   "source": [
    "heros[1:3] = ['doctor strange']\n",
    "print(heros)\n"
   ]
  },
  {
   "cell_type": "markdown",
   "metadata": {},
   "source": [
    "# 5. Sort the list in alphabetical order"
   ]
  },
  {
   "cell_type": "code",
   "execution_count": 31,
   "metadata": {},
   "outputs": [
    {
     "name": "stdout",
     "output_type": "stream",
     "text": [
      "['captain america', 'doctor strange', 'iron man', 'spider man']\n"
     ]
    }
   ],
   "source": [
    "heros.sort()\n",
    "print(heros)"
   ]
  },
  {
   "cell_type": "code",
   "execution_count": null,
   "metadata": {},
   "outputs": [],
   "source": []
  }
 ],
 "metadata": {
  "kernelspec": {
   "display_name": "Python 3",
   "language": "python",
   "name": "python3"
  },
  "language_info": {
   "codemirror_mode": {
    "name": "ipython",
    "version": 3
   },
   "file_extension": ".py",
   "mimetype": "text/x-python",
   "name": "python",
   "nbconvert_exporter": "python",
   "pygments_lexer": "ipython3",
   "version": "3.8.5"
  }
 },
 "nbformat": 4,
 "nbformat_minor": 4
}

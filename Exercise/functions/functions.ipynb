{
 "cells": [
  {
   "cell_type": "markdown",
   "metadata": {},
   "source": [
    "# Write a function called calculate_area that takes base and height as an input and returns and area of a triangle. Equation of an area of a triangle is,"
   ]
  },
  {
   "cell_type": "code",
   "execution_count": 6,
   "metadata": {},
   "outputs": [
    {
     "name": "stdout",
     "output_type": "stream",
     "text": [
      "Enter base: 12\n",
      "Enter height: 12\n",
      "Area of a triangle is: 72.0\n"
     ]
    }
   ],
   "source": [
    "def calculate_area():\n",
    "    base = float(input(\"Enter base: \"))\n",
    "    height = float(input(\"Enter height: \"))\n",
    "    area = (1/2)* base * height\n",
    "    return area\n",
    "\n",
    "print(\"Area of a triangle is:\",calculate_area())"
   ]
  },
  {
   "cell_type": "markdown",
   "metadata": {},
   "source": [
    "# Modify above function to take third parameter shape type. It can be either \"triangle\" or \"rectangle\". Based on shape type it will calculate area. Equation of rectangle's area is,"
   ]
  },
  {
   "cell_type": "code",
   "execution_count": 12,
   "metadata": {},
   "outputs": [
    {
     "name": "stdout",
     "output_type": "stream",
     "text": [
      "Enter base: 12\n",
      "Enter height: 12\n",
      "Enter shape type(triangle/rectangle):\n",
      "Area of  is: 72.0\n"
     ]
    }
   ],
   "source": [
    "base = float(input(\"Enter base: \"))\n",
    "height = float(input(\"Enter height: \"))\n",
    "shape = input(\"Enter shape type(triangle/rectangle):\")\n",
    "\n",
    "def calculate_area(shape = 'triangle'):\n",
    "   \n",
    "    if shape.lower() == \"triangle\":\n",
    "        area = (1/2)* base * height\n",
    "        return area\n",
    "    else:\n",
    "        area = base * height\n",
    "        return area\n",
    "\n",
    "print(f\"Area of {shape} is:\",calculate_area())"
   ]
  },
  {
   "cell_type": "markdown",
   "metadata": {},
   "source": [
    "# Write a function called print_pattern that takes integer number as an argument and prints following pattern if input number is 3,\n",
    "\n",
    "*\n",
    "**\n",
    "**"
   ]
  },
  {
   "cell_type": "code",
   "execution_count": 24,
   "metadata": {},
   "outputs": [
    {
     "name": "stdout",
     "output_type": "stream",
     "text": [
      "*\n",
      "**\n",
      "***\n",
      "****\n",
      "*****\n"
     ]
    }
   ],
   "source": [
    "def print_pattern(number=5):\n",
    "    \n",
    "    for i in range(number):\n",
    "        s = ''\n",
    "        for j in range(i+1):\n",
    "            s = s + '*'\n",
    "        print(s)\n",
    "        \n",
    "print_pattern()"
   ]
  },
  {
   "cell_type": "code",
   "execution_count": null,
   "metadata": {},
   "outputs": [],
   "source": []
  },
  {
   "cell_type": "code",
   "execution_count": null,
   "metadata": {},
   "outputs": [],
   "source": []
  },
  {
   "cell_type": "code",
   "execution_count": null,
   "metadata": {},
   "outputs": [],
   "source": []
  }
 ],
 "metadata": {
  "kernelspec": {
   "display_name": "Python 3",
   "language": "python",
   "name": "python3"
  },
  "language_info": {
   "codemirror_mode": {
    "name": "ipython",
    "version": 3
   },
   "file_extension": ".py",
   "mimetype": "text/x-python",
   "name": "python",
   "nbconvert_exporter": "python",
   "pygments_lexer": "ipython3",
   "version": "3.8.5"
  }
 },
 "nbformat": 4,
 "nbformat_minor": 4
}
